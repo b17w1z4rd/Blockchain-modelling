{
  "cells": [
    {
      "cell_type": "code",
      "execution_count": 1,
      "metadata": {
        "id": "l07kpCA3Lc_f"
      },
      "outputs": [],
      "source": [
        "import hashlib"
      ]
    },
    {
      "cell_type": "code",
      "execution_count": 7,
      "metadata": {
        "id": "cm-9rSD1Mezb"
      },
      "outputs": [],
      "source": [
        "class Block:\n",
        "  def __init__(self, data, prev_hash):\n",
        "    self.data= data\n",
        "    self.prev_hash= prev_hash\n",
        "    self.hash= self.calc_hash()\n",
        "\n",
        "    #Create a method that calculates the hash using\n",
        "  def calc_hash(self):\n",
        "    sha= hashlib.sha256()\n",
        "    sha.update(self.data.encode('utf-8'))\n",
        "    return sha.hexdigest()"
      ]
    },
    {
      "cell_type": "code",
      "execution_count": 8,
      "metadata": {
        "id": "kkzOcnLmN-bl"
      },
      "outputs": [],
      "source": [
        "#Create the blockchain class\n",
        "class Blockchain:\n",
        "  #Create a constructor for the blockchain class\n",
        "  def __init__(self):\n",
        "    self.chain = [self.create_genesis_block()]\n",
        "\n",
        "  #Create a method for the first block in the blockchain also called the 'Genesis' block\n",
        "  def create_genesis_block(self):\n",
        "    return Block(\"Genesis Block\", \"0\")\n",
        "\n",
        "  #Create a method that creates a new block and adds it to the blockchain(aka the list)\n",
        "  def add_block(self,data):\n",
        "    prev_block = self.chain[-1]\n",
        "    new_block = Block(data, prev_block.hash)\n",
        "    self.chain.append(new_block)"
      ]
    },
    {
      "cell_type": "code",
      "execution_count": 9,
      "metadata": {
        "id": "SUdXelFSPWKJ"
      },
      "outputs": [],
      "source": [
        "#Test the new block in the blockchain\n",
        "blockchain = Blockchain()"
      ]
    },
    {
      "cell_type": "code",
      "execution_count": 13,
      "metadata": {
        "id": "vVSd4xLHPsAI"
      },
      "outputs": [],
      "source": [
        "blockchain.add_block('First Block')\n",
        "blockchain.add_block('Second Block')\n",
        "blockchain.add_block('Third Block')"
      ]
    },
    {
      "cell_type": "code",
      "execution_count": 12,
      "metadata": {
        "colab": {
          "base_uri": "https://localhost:8080/"
        },
        "id": "1Av9rvCUP34C",
        "outputId": "de6fcdef-e480-486b-fe91-e91c6dfd1575"
      },
      "outputs": [
        {
          "name": "stdout",
          "output_type": "stream",
          "text": [
            "Blockchain:\n",
            "Data: Genesis Block\n",
            "Hash: 89eb0ac031a63d2421cd05a2fbe41f3ea35f5c3712ca839cbf6b85c4ee07b7a3\n",
            "Previous Hash: 0\n",
            "\n",
            "Data: First Block\n",
            "Hash: 541963a34346a1880a17157517a707e582d79fb8cfb7472074be88d93aabc88e\n",
            "Previous Hash: 89eb0ac031a63d2421cd05a2fbe41f3ea35f5c3712ca839cbf6b85c4ee07b7a3\n",
            "\n",
            "Data: Second Block\n",
            "Hash: 50c9991f8736d9385422d8bb4f863708803184616b3d541058a1f3fc62c638fc\n",
            "Previous Hash: 541963a34346a1880a17157517a707e582d79fb8cfb7472074be88d93aabc88e\n",
            "\n",
            "Data: Third Block\n",
            "Hash: 60581ee0a808db3fc0b36f7325afb9b6f3cfae4f49d4bf90689d7b0d47956b1b\n",
            "Previous Hash: 50c9991f8736d9385422d8bb4f863708803184616b3d541058a1f3fc62c638fc\n",
            "\n"
          ]
        }
      ],
      "source": [
        "#Print and show the blockchain\n",
        "print('Blockchain:')\n",
        "for block in blockchain.chain:\n",
        "  print(f'Data: {block.data}')\n",
        "  print(f'Hash: {block.hash}')\n",
        "  print(f'Previous Hash: {block.prev_hash}')\n",
        "  print()"
      ]
    },
    {
      "cell_type": "code",
      "execution_count": null,
      "metadata": {
        "id": "dikX5HZ0QZvD"
      },
      "outputs": [],
      "source": []
    }
  ],
  "metadata": {
    "colab": {
      "provenance": []
    },
    "kernelspec": {
      "display_name": "Python 3",
      "name": "python3"
    },
    "language_info": {
      "name": "python"
    }
  },
  "nbformat": 4,
  "nbformat_minor": 0
}
